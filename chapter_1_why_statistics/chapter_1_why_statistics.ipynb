{
 "cells": [
  {
   "cell_type": "markdown",
   "id": "346ead87",
   "metadata": {},
   "source": [
    "# Lección 1: ¿Por qué aprender estadística?\n",
    "\n",
    "¡Bienvenid@ al curso! 🎉 Nos alegra que estés aquí.\n",
    "\n",
    "La estadística nos ayuda a entender los datos, descubrir patrones y tomar mejores decisiones, ya sea en la investigación, el desarrollo de productos o simplemente por curiosidad.\n",
    "\n",
    "Empecemos con algo sencillo."
   ]
  },
  {
   "cell_type": "code",
   "execution_count": 2,
   "id": "d4fd11e7",
   "metadata": {},
   "outputs": [
    {
     "name": "stdout",
     "output_type": "stream",
     "text": [
      "helllo world\n"
     ]
    }
   ],
   "source": [
    "print(\"helllo world\")"
   ]
  },
  {
   "cell_type": "markdown",
   "id": "7b2a6cba",
   "metadata": {},
   "source": [
    "## ¿Qué cualidades crees que debe tener una teoría científica?\n",
    "\n",
    "Antes de sumergirnos en datos y números, vale la pena reflexionar sobre la base de todo: **las teorías científicas**.\n",
    "\n",
    "Piensa por un momento:\n",
    "\n",
    "> ¿Qué cualidades debe tener una buena teoría científica?\n",
    "\n",
    "Tómate un minuto para anotar tus ideas. Aquí van algunas pistas para guiarte:\n",
    "- ¿Debe ser comprobable?\n",
    "- ¿Debe poder predecir algo?\n",
    "- ¿Qué pasa si no se puede refutar?\n",
    "\n",
    "💡 No hay respuestas incorrectas en este punto — lo importante es empezar a pensar como científic@.\n"
   ]
  },
  {
   "cell_type": "markdown",
   "id": "30702470",
   "metadata": {},
   "source": [
    "## Niveles de medición y estructuras básicas en Python\n",
    "\n",
    "En estadística, las variables se clasifican en **categóricas** y **continuas**, y a su vez tienen diferentes niveles de medición.\n",
    "\n",
    "Vamos a representar cada tipo de variable con estructuras básicas en Python como **listas**, **diccionarios** y **tuplas**.\n",
    "\n",
    "### 🔹 Variables Categóricas\n",
    "\n",
    "#### 1. Binaria"
   ]
  },
  {
   "cell_type": "code",
   "execution_count": 7,
   "id": "6f7ae533",
   "metadata": {},
   "outputs": [
    {
     "data": {
      "text/plain": [
       "['vivo', 'muerto']"
      ]
     },
     "execution_count": 7,
     "metadata": {},
     "output_type": "execute_result"
    }
   ],
   "source": [
    "# Solo hay dos categorías: vivo o muerto\n",
    "estado = [\"vivo\", \"muerto\"]\n",
    "estado\n"
   ]
  },
  {
   "cell_type": "markdown",
   "id": "36ded170",
   "metadata": {},
   "source": [
    "#### 2. Nominal"
   ]
  },
  {
   "cell_type": "code",
   "execution_count": 8,
   "id": "c69ae0cf",
   "metadata": {},
   "outputs": [
    {
     "data": {
      "text/plain": [
       "['omnívoro', 'vegetariano', 'vegano', 'frugívoro']"
      ]
     },
     "execution_count": 8,
     "metadata": {},
     "output_type": "execute_result"
    }
   ],
   "source": [
    "# Más de dos categorías, sin orden específico\n",
    "dieta = [\"omnívoro\", \"vegetariano\", \"vegano\", \"frugívoro\"]\n",
    "dieta"
   ]
  },
  {
   "cell_type": "markdown",
   "id": "74d4e526",
   "metadata": {},
   "source": [
    "#### 3. Ordinal"
   ]
  },
  {
   "cell_type": "code",
   "execution_count": 10,
   "id": "5f1689a9",
   "metadata": {},
   "outputs": [
    {
     "data": {
      "text/plain": [
       "{'suspenso': 0, 'aprobado': 1, 'notable': 2, 'sobresaliente': 3}"
      ]
     },
     "execution_count": 10,
     "metadata": {},
     "output_type": "execute_result"
    }
   ],
   "source": [
    "# Las categorías tienen un orden lógico\n",
    "resultado_examen = [\"suspenso\", \"aprobado\", \"notable\", \"sobresaliente\"]\n",
    "\n",
    "# También podemos asignarles valores para indicar el orden:\n",
    "niveles_resultado = {\n",
    "    \"suspenso\": 0,\n",
    "    \"aprobado\": 1,\n",
    "    \"notable\": 2,\n",
    "    \"sobresaliente\": 3\n",
    "}\n",
    "niveles_resultado"
   ]
  },
  {
   "cell_type": "markdown",
   "id": "1a4c16d6",
   "metadata": {},
   "source": [
    "### Variables Continuas\n",
    "#### 4. Intervalo"
   ]
  },
  {
   "cell_type": "code",
   "execution_count": 12,
   "id": "d9f44fd7",
   "metadata": {},
   "outputs": [
    {
     "data": {
      "text/plain": [
       "[6, 8, 13, 15]"
      ]
     },
     "execution_count": 12,
     "metadata": {},
     "output_type": "execute_result"
    }
   ],
   "source": [
    "# Las diferencias entre los valores son iguales, pero no hay un cero absoluto\n",
    "temperaturas = [6, 8, 13, 15]  # grados Celsius\n",
    "temperaturas"
   ]
  },
  {
   "cell_type": "markdown",
   "id": "f8c1a22a",
   "metadata": {},
   "source": [
    "##### 5. Razón"
   ]
  },
  {
   "cell_type": "code",
   "execution_count": 13,
   "id": "51ffad6b",
   "metadata": {},
   "outputs": [
    {
     "data": {
      "text/plain": [
       "[8, 16, 24]"
      ]
     },
     "execution_count": 13,
     "metadata": {},
     "output_type": "execute_result"
    }
   ],
   "source": [
    "# Como el intervalo, pero tiene un cero absoluto y las proporciones tienen sentido\n",
    "ansiedad = [8, 16, 24]  # una persona con 16 está el doble de ansiosa que una con 8\n",
    "ansiedad"
   ]
  },
  {
   "cell_type": "markdown",
   "id": "031451d2",
   "metadata": {},
   "source": [
    "## ¿Cuál es la diferencia entre fiabilidad y validez?\n",
    "\n",
    "En estadística y ciencia, medimos cosas todo el tiempo. Pero... ¿qué tan buenas son nuestras mediciones?\n",
    "\n",
    "### 🎯 Fiabilidad (reliability)\n",
    "Una medida es **fiable** si es **consistente**. Es decir, si repetimos la medición muchas veces, obtenemos resultados similares.|"
   ]
  },
  {
   "cell_type": "code",
   "execution_count": 16,
   "id": "78c2097a",
   "metadata": {},
   "outputs": [
    {
     "name": "stdout",
     "output_type": "stream",
     "text": [
      "0.08366600265340726\n"
     ]
    }
   ],
   "source": [
    "# Simulamos 5 mediciones repetidas de algo\n",
    "mediciones = [10.1, 10.2, 10.0, 10.1, 10.2]  # Muy consistentes\n",
    "\n",
    "# Desviación estándar baja → alta fiabilidad\n",
    "import statistics\n",
    "print(statistics.stdev(mediciones))  # Resultado bajo ≈ alta fiabilidad"
   ]
  },
  {
   "cell_type": "code",
   "execution_count": 17,
   "id": "7a9ba823",
   "metadata": {},
   "outputs": [
    {
     "name": "stdout",
     "output_type": "stream",
     "text": [
      "¿Fiable?: True\n",
      "¿Válida?: False\n"
     ]
    }
   ],
   "source": [
    "# Una medición puede ser muy consistente (fiable) pero no medir lo correcto (no válida)\n",
    "temperatura_con_pie = [37.0, 37.0, 37.1, 37.0, 37.0]  # Consistente\n",
    "print(\"¿Fiable?:\", statistics.stdev(temperatura_con_pie) < 0.2)\n",
    "print(\"¿Válida?:\", False)  # Porque medimos temperatura con el pie 😅\n"
   ]
  },
  {
   "cell_type": "markdown",
   "id": "083eda1c",
   "metadata": {},
   "source": [
    "### 🧠 Resumen rápido:\n",
    "\n",
    "| Concepto   | Pregunta clave                         | Ejemplo sencillo                             |\n",
    "|------------|-----------------------------------------|-----------------------------------------------|\n",
    "| Fiabilidad | ¿Obtengo el mismo resultado cada vez?   | Una báscula que siempre marca 70 kg           |\n",
    "| Validez    | ¿Estoy midiendo lo que creo que mido?   | ¿La báscula realmente mide el peso?           |\n"
   ]
  },
  {
   "cell_type": "markdown",
   "id": "18dd9f64",
   "metadata": {},
   "source": [
    "# 🔬 Métodos de investigación experimental y aleatorización\n",
    "\n",
    "En la investigación experimental, queremos descubrir **causas y efectos**. Para ello, manipulamos una variable y observamos qué pasa con otra. Esta es la base de los **experimentos controlados**.\n",
    "\n",
    "---\n",
    "\n",
    "## 🧪 ¿Qué es un experimento?\n",
    "\n",
    "Un **experimento** tiene dos elementos clave:\n",
    "\n",
    "1. **Manipulación:** Cambiamos algo (la variable independiente).\n",
    "2. **Control y aleatorización:** Mantenemos todo lo demás igual y asignamos participantes al azar.\n",
    "\n",
    "Por ejemplo, si queremos saber si escuchar música mejora la concentración, podríamos:\n",
    "\n",
    "- Manipular: el tipo de música (música vs. silencio).\n",
    "- Medir: cuántas tareas completan los participantes.\n",
    "\n",
    "---\n",
    "\n",
    "## 🎲 ¿Qué es la aleatorización?\n",
    "\n",
    "La **aleatorización** (randomization) significa asignar a los participantes a condiciones de manera **aleatoria**, para evitar sesgos.\n",
    "\n",
    "### Ejemplo en Python:\n"
   ]
  },
  {
   "cell_type": "code",
   "execution_count": 19,
   "id": "fa97f53f",
   "metadata": {},
   "outputs": [
    {
     "name": "stdout",
     "output_type": "stream",
     "text": [
      "Grupo con música: ['Ana', 'Carlos', 'Elena', 'Pedro']\n",
      "Grupo en silencio: ['Luis', 'Marta']\n"
     ]
    }
   ],
   "source": [
    "import random\n",
    "\n",
    "# Participantes en el estudio\n",
    "participantes = [\"Ana\", \"Luis\", \"Marta\", \"Carlos\", \"Elena\", \"Pedro\"]\n",
    "\n",
    "# Grupos experimentales\n",
    "grupo_musica = []\n",
    "grupo_silencio = []\n",
    "\n",
    "# Asignación aleatoria\n",
    "for persona in participantes:\n",
    "    if random.choice([True, False]):\n",
    "        grupo_musica.append(persona)\n",
    "    else:\n",
    "        grupo_silencio.append(persona)\n",
    "\n",
    "print(\"Grupo con música:\", grupo_musica)\n",
    "print(\"Grupo en silencio:\", grupo_silencio)"
   ]
  }
 ],
 "metadata": {
  "kernelspec": {
   "display_name": "env",
   "language": "python",
   "name": "python3"
  },
  "language_info": {
   "codemirror_mode": {
    "name": "ipython",
    "version": 3
   },
   "file_extension": ".py",
   "mimetype": "text/x-python",
   "name": "python",
   "nbconvert_exporter": "python",
   "pygments_lexer": "ipython3",
   "version": "3.9.6"
  }
 },
 "nbformat": 4,
 "nbformat_minor": 5
}
