{
 "cells": [
  {
   "cell_type": "markdown",
   "metadata": {},
   "source": [
    "# Chapter 2: Everything you ever wanted to know about statistics\n"
   ]
  },
  {
   "cell_type": "markdown",
   "metadata": {},
   "source": [
    "## Self-test Answers\n",
    "**Page 40:**\n",
    "1.\n",
    "We came across some data about the number of friends that 11 people had on Facebook (22, 40, 53, 57, 93, 98, 103, 108, 116, 121, 252). We calculated the mean for these data as 96.64. Now calculate the sums of squares, variance and standard deviation."
   ]
  },
  {
   "cell_type": "code",
   "execution_count": 48,
   "metadata": {},
   "outputs": [
    {
     "name": "stdout",
     "output_type": "stream",
     "text": [
      "Manual version\n",
      "Mean: 96.64\n",
      "The mean is usually off by: 37544.55 squared friends\n",
      "On average, the mean is off by: 3754.45 friends squared\n",
      "On average, the mean is off by: 61.27 friends\n",
      "\n",
      "\n",
      "Pandas version\n",
      "Mean: 96.64\n",
      "The mean is usually off by: 37544.55 squared friends\n",
      "On average, the mean is off by: 3754.45 friends squared\n",
      "On average, the mean is off by: 61.27 friends\n"
     ]
    }
   ],
   "source": [
    "# Manually computed solution\n",
    "data = [22, 40, 53, 57, 93, 98, 103, 108, 116, 121, 252]\n",
    "   \n",
    "   # sum of squared errors (SSE)\n",
    "print('Manual version')\n",
    "\n",
    "mean = round(sum(data) / len(data), 2) # 96.64\n",
    "print(f\"Mean: {mean}\")\n",
    "sse = 0\n",
    "for num in data:\n",
    "    sqrt_error = (num - mean) * (num - mean)\n",
    "    sse += sqrt_error\n",
    "print(f\"The mean is usually off by: {round(sse, 2)} squared friends\")\n",
    "\n",
    "    # Variance\n",
    "variance = sse / (len(data) - 1) # divided by the degrees of freedom N-1\n",
    "print(f\"On average, the mean is off by: {round(variance, 2)} friends squared\")\n",
    "\n",
    "    # Standard deviation \n",
    "std_dev = variance ** 0.5 # get the sqrt to make it easier to read\n",
    "print(f\"On average, the mean is off by: {round(std_dev, 2)} friends\")\n",
    "\n",
    "\n",
    "# using pandas\n",
    "import pandas as pd\n",
    "import numpy as np\n",
    "\n",
    "df = pd.DataFrame({'friends': data})\n",
    "df['errors'] = df['friends'] - df['friends'].mean()\n",
    "\n",
    "print('\\n')\n",
    "print('Pandas version')\n",
    "print(f\"Mean: {df['friends'].mean().round(2)}\")\n",
    "print(f\"The mean is usually off by: {round(sum(df['errors'] ** 2),2)} squared friends\")\n",
    "print(f\"On average, the mean is off by: {round(sum(df['errors'] ** 2) / (len(df['friends'])-1),2)} friends squared\")\n",
    "print(f\"On average, the mean is off by: {round(np.sqrt(sum(df['errors'] ** 2) / (len(df['friends'])-1)),2)} friends\")\n"
   ]
  },
  {
   "cell_type": "markdown",
   "metadata": {},
   "source": [
    "**Page 40** 2. Calculate these values again but excluding the outlier (252)"
   ]
  },
  {
   "cell_type": "code",
   "execution_count": 49,
   "metadata": {},
   "outputs": [
    {
     "name": "stdout",
     "output_type": "stream",
     "text": [
      "Pandas version, outliers removed\n",
      "Mean: 81.1\n",
      "The mean is usually off by: 10992.9 squared friends\n",
      "On average, the mean is off by: 1221.43 friends squared\n",
      "On average, the mean is off by: 34.95 friends\n"
     ]
    }
   ],
   "source": [
    "# detect outliers\n",
    "def return_outlier(column):\n",
    "    avg = column.mean()\n",
    "    sd = column.std()\n",
    "    low = avg - sd*2\n",
    "    high = avg + sd*2\n",
    "    return low, high\n",
    "\n",
    "low, high = return_outlier(df['friends'])\n",
    "df = df[(df['friends'] >= low) & (df['friends'] <= high)]\n",
    "df['errors'] = df['friends'] - df['friends'].mean()\n",
    "print('Pandas version, outliers removed')\n",
    "print(f\"Mean: {df['friends'].mean().round(2)}\")\n",
    "print(f\"The mean is usually off by: {round(sum(df['errors'] ** 2),2)} squared friends\")\n",
    "print(f\"On average, the mean is off by: {round(sum(df['errors'] ** 2) / (len(df['friends'])-1),2)} friends squared\")\n",
    "print(f\"On average, the mean is off by: {round(np.sqrt(sum(df['errors'] ** 2) / (len(df['friends'])-1)),2)} friends\")\n"
   ]
  },
  {
   "cell_type": "markdown",
   "metadata": {},
   "source": [
    "Calculate the range but excluding the score of 252"
   ]
  },
  {
   "cell_type": "code",
   "execution_count": 56,
   "metadata": {},
   "outputs": [
    {
     "name": "stdout",
     "output_type": "stream",
     "text": [
      "Base python version\n",
      "min: 22\n",
      "max: 121\n",
      "range: 99\n",
      "\n",
      "\n",
      "Pandas version\n",
      "min: 22\n",
      "max: 121\n",
      "range: 99\n"
     ]
    }
   ],
   "source": [
    "# base python version\n",
    "def get_min(data):\n",
    "    min = data[0]\n",
    "    for i in data:\n",
    "        if i < min:\n",
    "            min = i    \n",
    "    return min\n",
    "\n",
    "def get_max(data):\n",
    "    max = data[0]\n",
    "    for i in data:\n",
    "        if i > max:\n",
    "            max = i\n",
    "    return max\n",
    "\n",
    "def get_range(data):\n",
    "    min = get_min(data)\n",
    "    max = get_max(data)\n",
    "    return max - min\n",
    "\n",
    "print('Base python version')\n",
    "print('min:', get_min(df['friends']))\n",
    "print('max:', get_max(df['friends']))\n",
    "print('range:', get_range(df['friends']))\n",
    "\n",
    "# Pandas version\n",
    "print('\\n')\n",
    "print('Pandas version')\n",
    "print('min:', df['friends'].min())\n",
    "print('max:', df['friends'].max())\n",
    "print('range:', df['friends'].max() - df['friends'].min())"
   ]
  },
  {
   "cell_type": "markdown",
   "metadata": {},
   "source": [
    "### Page 47\n",
    "In section 1.7.2.2 we came across some data about the number of friends that 11 people had on Facebook.\n",
    "We calculated the mean for these data as 96.64 and standard deviation as 61.27. Calculate a 95% confidence interval for this mean.\n",
    "\n",
    "Recalculate the confidence interval assuming that the sample size was 56."
   ]
  },
  {
   "cell_type": "code",
   "execution_count": 62,
   "metadata": {},
   "outputs": [
    {
     "name": "stdout",
     "output_type": "stream",
     "text": [
      "low:  55.44 high:  137.84\n",
      "low:  80.59 high:  112.69\n"
     ]
    }
   ],
   "source": [
    "# SE = s / sqrt(N)\n",
    "se = 61.27 / 11 ** 0.5\n",
    "\n",
    "low = round(96.64 - (se * 2.23),2)\n",
    "high = round(96.64 + (se * 2.23),2)\n",
    "\n",
    "print('low: ', low, \"high: \", high)\n",
    "\n",
    "se = 61.27 / 56 ** 0.5\n",
    "low = round(96.64 - (se * 1.96),2)\n",
    "high = round(96.64 + (se * 1.96),2)\n",
    "\n",
    "print('low: ', low, \"high: \", high)"
   ]
  },
  {
   "cell_type": "markdown",
   "metadata": {},
   "source": [
    "Task 4: In Chapter 1 we used an example of the time taken for 21 heavy smokers to fall off a treadmill at the fastest setting (18, 16, 18, 24, 23, 22, 22, 23, 26, 29, 32, 34, 34, 36, 36, 43, 42, 49, 46, 46, 57). Calculate the sums of squares, variance, standard deviation, standard error and 95% confidence interval of these data. 1"
   ]
  },
  {
   "cell_type": "code",
   "execution_count": 2,
   "metadata": {},
   "outputs": [],
   "source": [
    "import pandas as pd\n",
    "import matplotlib.pyplot as plt\n",
    "import numpy as np"
   ]
  },
  {
   "cell_type": "markdown",
   "metadata": {},
   "source": [
    "Load the data as an array"
   ]
  },
  {
   "cell_type": "code",
   "execution_count": 3,
   "metadata": {},
   "outputs": [],
   "source": [
    "times = np.array(\n",
    "    [18, 16, 18, 24, 23, 22, 22, 23, 26, 29, 32, 34, 34, 36, 36, 43, 42, 49, 46, 46, 57]\n",
    ")"
   ]
  },
  {
   "cell_type": "markdown",
   "metadata": {},
   "source": [
    "Mean, Mode and Median"
   ]
  },
  {
   "cell_type": "code",
   "execution_count": 9,
   "metadata": {},
   "outputs": [
    {
     "name": "stdout",
     "output_type": "stream",
     "text": [
      "mean: 32.19 minutes\n",
      "mode: 18 minutes\n",
      "median: 32 minutes\n"
     ]
    }
   ],
   "source": [
    "def my_mean(arr):\n",
    "    return round(sum(arr) / len(arr),2)\n",
    "\n",
    "def my_median(arr):\n",
    "    arr.sort()\n",
    "    n = len(arr)\n",
    "    if n % 2 == 0:\n",
    "        return round((arr[n//2 - 1] + arr[n//2]) / 2,2)\n",
    "    else:\n",
    "        return arr[n//2]\n",
    "\n",
    "from collections import Counter\n",
    "def my_mode(arr):\n",
    "    count = Counter(arr)\n",
    "    return count.most_common(1)[0][0]\n",
    "\n",
    "print(\"mean:\", my_mean(times), \"minutes\")\n",
    "print(\"mode:\", my_mode(times), \"minutes\")\n",
    "print(\"median:\", my_median(times), \"minutes\")"
   ]
  },
  {
   "cell_type": "markdown",
   "metadata": {},
   "source": [
    "Sums of squares, variance, standard deviation, standard error and 95% confidence interval"
   ]
  },
  {
   "cell_type": "code",
   "execution_count": 14,
   "metadata": {},
   "outputs": [],
   "source": [
    "def total_error(data):\n",
    "    mean = my_mean(data)\n",
    "    total_error = 0\n",
    "    for i in data:\n",
    "        total_error += i - mean\n",
    "    return total_error\n",
    "\n",
    "\n",
    "def my_sse(data):\n",
    "    mean = my_mean(data)\n",
    "    sse = 0\n",
    "    for i in data:\n",
    "        sse += (i - mean) ** 2\n",
    "    return sse\n",
    "\n",
    "\n",
    "def my_variance(data):\n",
    "    sse = my_sse(data)\n",
    "    return sse**0.5\n",
    "\n",
    "\n",
    "def my_sd(data):\n",
    "    return round(my_variance(data) / (len(data) - 1), 2)  # for sample sd\n",
    "\n",
    "def my_se(data):\n",
    "    return round((my_variance(data) / (len(data))) ** 0.5, 2)  # for sample sd\n",
    "\n",
    "\n",
    "def confidence_interval(data):\n",
    "    mean = my_mean(data)\n",
    "    se = my_se(data)\n",
    "    z = 1.96  # for 95% confidence interval\n",
    "    margin_of_error = z * se\n",
    "    lower_bound = round(mean - margin_of_error, 2)\n",
    "    upper_bound = round(mean + margin_of_error, 2)\n",
    "    return (lower_bound, upper_bound)"
   ]
  },
  {
   "cell_type": "code",
   "execution_count": 18,
   "metadata": {},
   "outputs": [
    {
     "name": "stdout",
     "output_type": "stream",
     "text": [
      "Sum of Squared Errors 2685.24 minutes squared\n",
      "Variance 51.82 minutes\n",
      "Standard Deviation 2.59 minutes\n",
      "Standard Error 1.57 minutes\n",
      "mean: 32.19 minutes\n",
      "95% Confidence Interval: (29.11, 35.27) minutes\n"
     ]
    }
   ],
   "source": [
    "print(\"Sum of Squared Errors\", round(my_sse(times), 2), \"minutes squared\")\n",
    "print(\"Variance\", round(my_variance(times), 2), \"minutes\")\n",
    "print(\"Standard Deviation\", my_sd(times), \"minutes\")\n",
    "print(\"Standard Error\", my_se(times), \"minutes\")\n",
    "print(\"mean:\", my_mean(times), \"minutes\")\n",
    "print(\"95% Confidence Interval:\", confidence_interval(times),\"minutes\")"
   ]
  },
  {
   "cell_type": "markdown",
   "metadata": {},
   "source": [
    "Normalized data, z-score calucation"
   ]
  },
  {
   "cell_type": "markdown",
   "metadata": {},
   "source": []
  }
 ],
 "metadata": {
  "kernelspec": {
   "display_name": "env",
   "language": "python",
   "name": "python3"
  },
  "language_info": {
   "codemirror_mode": {
    "name": "ipython",
    "version": 3
   },
   "file_extension": ".py",
   "mimetype": "text/x-python",
   "name": "python",
   "nbconvert_exporter": "python",
   "pygments_lexer": "ipython3",
   "version": "3.9.6"
  }
 },
 "nbformat": 4,
 "nbformat_minor": 2
}
