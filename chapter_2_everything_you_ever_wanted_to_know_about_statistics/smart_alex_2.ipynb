{
 "cells": [
  {
   "cell_type": "markdown",
   "metadata": {},
   "source": [
    "Task 4: In Chapter 1 we used an example of the time taken for 21 heavy smokers to fall off a treadmill at the fastest setting (18, 16, 18, 24, 23, 22, 22, 23, 26, 29, 32, 34, 34, 36, 36, 43, 42, 49, 46, 46, 57). Calculate the sums of squares, variance, standard deviation, standard error and 95% confidence interval of these data. 1"
   ]
  },
  {
   "cell_type": "code",
   "execution_count": 2,
   "metadata": {},
   "outputs": [],
   "source": [
    "import pandas as pd\n",
    "import matplotlib.pyplot as plt\n",
    "import numpy as np"
   ]
  },
  {
   "cell_type": "markdown",
   "metadata": {},
   "source": [
    "Load the data as an array"
   ]
  },
  {
   "cell_type": "code",
   "execution_count": 3,
   "metadata": {},
   "outputs": [],
   "source": [
    "times = np.array(\n",
    "    [18, 16, 18, 24, 23, 22, 22, 23, 26, 29, 32, 34, 34, 36, 36, 43, 42, 49, 46, 46, 57]\n",
    ")"
   ]
  },
  {
   "cell_type": "markdown",
   "metadata": {},
   "source": [
    "Mean, Mode and Median"
   ]
  },
  {
   "cell_type": "code",
   "execution_count": 9,
   "metadata": {},
   "outputs": [
    {
     "name": "stdout",
     "output_type": "stream",
     "text": [
      "mean: 32.19 minutes\n",
      "mode: 18 minutes\n",
      "median: 32 minutes\n"
     ]
    }
   ],
   "source": [
    "def my_mean(arr):\n",
    "    return round(sum(arr) / len(arr),2)\n",
    "\n",
    "def my_median(arr):\n",
    "    arr.sort()\n",
    "    n = len(arr)\n",
    "    if n % 2 == 0:\n",
    "        return round((arr[n//2 - 1] + arr[n//2]) / 2,2)\n",
    "    else:\n",
    "        return arr[n//2]\n",
    "\n",
    "from collections import Counter\n",
    "def my_mode(arr):\n",
    "    count = Counter(arr)\n",
    "    return count.most_common(1)[0][0]\n",
    "\n",
    "print(\"mean:\", my_mean(times), \"minutes\")\n",
    "print(\"mode:\", my_mode(times), \"minutes\")\n",
    "print(\"median:\", my_median(times), \"minutes\")"
   ]
  },
  {
   "cell_type": "markdown",
   "metadata": {},
   "source": [
    "Sums of squares, variance, standard deviation, standard error and 95% confidence interval"
   ]
  },
  {
   "cell_type": "code",
   "execution_count": 14,
   "metadata": {},
   "outputs": [],
   "source": [
    "def total_error(data):\n",
    "    mean = my_mean(data)\n",
    "    total_error = 0\n",
    "    for i in data:\n",
    "        total_error += i - mean\n",
    "    return total_error\n",
    "\n",
    "\n",
    "def my_sse(data):\n",
    "    mean = my_mean(data)\n",
    "    sse = 0\n",
    "    for i in data:\n",
    "        sse += (i - mean) ** 2\n",
    "    return sse\n",
    "\n",
    "\n",
    "def my_variance(data):\n",
    "    sse = my_sse(data)\n",
    "    return sse**0.5\n",
    "\n",
    "\n",
    "def my_sd(data):\n",
    "    return round(my_variance(data) / (len(data) - 1), 2)  # for sample sd\n",
    "\n",
    "def my_se(data):\n",
    "    return round((my_variance(data) / (len(data))) ** 0.5, 2)  # for sample sd\n",
    "\n",
    "\n",
    "def confidence_interval(data):\n",
    "    mean = my_mean(data)\n",
    "    se = my_se(data)\n",
    "    z = 1.96  # for 95% confidence interval\n",
    "    margin_of_error = z * se\n",
    "    lower_bound = round(mean - margin_of_error, 2)\n",
    "    upper_bound = round(mean + margin_of_error, 2)\n",
    "    return (lower_bound, upper_bound)"
   ]
  },
  {
   "cell_type": "code",
   "execution_count": 18,
   "metadata": {},
   "outputs": [
    {
     "name": "stdout",
     "output_type": "stream",
     "text": [
      "Sum of Squared Errors 2685.24 minutes squared\n",
      "Variance 51.82 minutes\n",
      "Standard Deviation 2.59 minutes\n",
      "Standard Error 1.57 minutes\n",
      "mean: 32.19 minutes\n",
      "95% Confidence Interval: (29.11, 35.27) minutes\n"
     ]
    }
   ],
   "source": [
    "print(\"Sum of Squared Errors\", round(my_sse(times), 2), \"minutes squared\")\n",
    "print(\"Variance\", round(my_variance(times), 2), \"minutes\")\n",
    "print(\"Standard Deviation\", my_sd(times), \"minutes\")\n",
    "print(\"Standard Error\", my_se(times), \"minutes\")\n",
    "print(\"mean:\", my_mean(times), \"minutes\")\n",
    "print(\"95% Confidence Interval:\", confidence_interval(times),\"minutes\")"
   ]
  },
  {
   "cell_type": "markdown",
   "metadata": {},
   "source": [
    "Normalized data, z-score calucation"
   ]
  },
  {
   "cell_type": "markdown",
   "metadata": {},
   "source": []
  }
 ],
 "metadata": {
  "kernelspec": {
   "display_name": "env",
   "language": "python",
   "name": "python3"
  },
  "language_info": {
   "codemirror_mode": {
    "name": "ipython",
    "version": 3
   },
   "file_extension": ".py",
   "mimetype": "text/x-python",
   "name": "python",
   "nbconvert_exporter": "python",
   "pygments_lexer": "ipython3",
   "version": "3.9.6"
  }
 },
 "nbformat": 4,
 "nbformat_minor": 2
}
