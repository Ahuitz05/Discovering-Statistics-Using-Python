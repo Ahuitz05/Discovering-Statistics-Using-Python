{
 "cells": [
  {
   "cell_type": "code",
   "execution_count": 11,
   "metadata": {},
   "outputs": [],
   "source": [
    "import pandas as pd\n",
    "import numpy as np\n",
    "import math"
   ]
  },
  {
   "cell_type": "code",
   "execution_count": 3,
   "metadata": {},
   "outputs": [
    {
     "data": {
      "text/html": [
       "<div>\n",
       "<style scoped>\n",
       "    .dataframe tbody tr th:only-of-type {\n",
       "        vertical-align: middle;\n",
       "    }\n",
       "\n",
       "    .dataframe tbody tr th {\n",
       "        vertical-align: top;\n",
       "    }\n",
       "\n",
       "    .dataframe thead th {\n",
       "        text-align: right;\n",
       "    }\n",
       "</style>\n",
       "<table border=\"1\" class=\"dataframe\">\n",
       "  <thead>\n",
       "    <tr style=\"text-align: right;\">\n",
       "      <th></th>\n",
       "      <th>adverts_watched</th>\n",
       "      <th>packets_bought</th>\n",
       "    </tr>\n",
       "  </thead>\n",
       "  <tbody>\n",
       "    <tr>\n",
       "      <th>0</th>\n",
       "      <td>5</td>\n",
       "      <td>8</td>\n",
       "    </tr>\n",
       "    <tr>\n",
       "      <th>1</th>\n",
       "      <td>4</td>\n",
       "      <td>9</td>\n",
       "    </tr>\n",
       "    <tr>\n",
       "      <th>2</th>\n",
       "      <td>4</td>\n",
       "      <td>10</td>\n",
       "    </tr>\n",
       "    <tr>\n",
       "      <th>3</th>\n",
       "      <td>6</td>\n",
       "      <td>13</td>\n",
       "    </tr>\n",
       "    <tr>\n",
       "      <th>4</th>\n",
       "      <td>8</td>\n",
       "      <td>15</td>\n",
       "    </tr>\n",
       "  </tbody>\n",
       "</table>\n",
       "</div>"
      ],
      "text/plain": [
       "   adverts_watched  packets_bought\n",
       "0                5               8\n",
       "1                4               9\n",
       "2                4              10\n",
       "3                6              13\n",
       "4                8              15"
      ]
     },
     "execution_count": 3,
     "metadata": {},
     "output_type": "execute_result"
    }
   ],
   "source": [
    "adverts = np.array([5,4,4,6,8])\n",
    "packets = np.array([8,9,10,13,15])\n",
    "df = pd.DataFrame({\"adverts_watched\": adverts, \"packets_bought\": packets})\n",
    "df"
   ]
  },
  {
   "cell_type": "code",
   "execution_count": 20,
   "metadata": {},
   "outputs": [
    {
     "data": {
      "text/plain": [
       "0.87"
      ]
     },
     "execution_count": 20,
     "metadata": {},
     "output_type": "execute_result"
    }
   ],
   "source": [
    "## Pearson Correlation Coefficient\n",
    "def my_mean(x):\n",
    "    mean = sum(x) / len(x)\n",
    "    return mean\n",
    "\n",
    "def my_sum_of_squared_errors(x):\n",
    "    sse = 0\n",
    "    x_mean = my_mean(x)\n",
    "    for i in x:\n",
    "        sse += (i - x_mean)**2\n",
    "    return sse\n",
    "\n",
    "def my_sd(x):\n",
    "    sse = my_sum_of_squared_errors(x)\n",
    "    sd =  math.sqrt(sse / (len(x) - 1))\n",
    "    return sd\n",
    "\n",
    "\n",
    "def pearson_cor(x, y):\n",
    "    x_mean = my_mean(x)\n",
    "    y_mean = my_mean(y)\n",
    "    x_std = my_sd(x)\n",
    "    y_std = my_sd(y)\n",
    "\n",
    "    x_y_sum = 0\n",
    "    for x_val, y_val in zip(x,y):\n",
    "        x_val = x_val - x_mean\n",
    "        y_val = y_val - y_mean\n",
    "        x_y_sum += x_val * y_val\n",
    "\n",
    "    covariance = x_y_sum / (len(x)-1)\n",
    "    correlation = x_y_sum / ((len(x) - 1) * x_std * y_std)\n",
    "    return round(correlation, 2)\n",
    "\n",
    "pearson_cor(df['adverts_watched'], df['packets_bought'])"
   ]
  },
  {
   "cell_type": "code",
   "execution_count": null,
   "metadata": {},
   "outputs": [],
   "source": []
  }
 ],
 "metadata": {
  "kernelspec": {
   "display_name": "env",
   "language": "python",
   "name": "python3"
  },
  "language_info": {
   "codemirror_mode": {
    "name": "ipython",
    "version": 3
   },
   "file_extension": ".py",
   "mimetype": "text/x-python",
   "name": "python",
   "nbconvert_exporter": "python",
   "pygments_lexer": "ipython3",
   "version": "3.9.6"
  }
 },
 "nbformat": 4,
 "nbformat_minor": 2
}
